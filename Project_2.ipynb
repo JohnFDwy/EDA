{
 "cells": [
  {
   "cell_type": "markdown",
   "id": "01e5a139",
   "metadata": {},
   "source": []
  },
  {
   "cell_type": "markdown",
   "id": "4f11ddc0-0c9d-46a3-9e62-9178ba81c227",
   "metadata": {},
   "source": [
    "The goal of this study is to take 5 separate datasets and to appropriately clean and process the data. I will start by importing each dataset and displaying the columns"
   ]
  },
  {
   "cell_type": "code",
   "execution_count": 1,
   "id": "bb688d51",
   "metadata": {},
   "outputs": [
    {
     "name": "stdout",
     "output_type": "stream",
     "text": [
      "/home/jovyan/work\r\n"
     ]
    }
   ],
   "source": [
    "!pwd"
   ]
  },
  {
   "cell_type": "code",
   "execution_count": 2,
   "id": "83c8a7f7",
   "metadata": {},
   "outputs": [
    {
     "name": "stdout",
     "output_type": "stream",
     "text": [
      " 1.txyt\r\n",
      " 31231312t.csv\r\n",
      " 6_class.csv\r\n",
      " ab_project_marketing_events.csv\r\n",
      " ab_project_marketing_events_us.csv\r\n",
      " ad_costs.csv\r\n",
      " ad_costs_new.csv\r\n",
      " ad_costs_us.csv\r\n",
      " ad_data\r\n",
      " ad_data_2.csv\r\n",
      " ad_data.csv\r\n",
      " ad_data_eng.csv\r\n",
      " agent_call_times.csv\r\n",
      " aisles.csv\r\n",
      " Alcohol_Sales.csv\r\n",
      " analytics_logs.csv\r\n",
      " apple_counts.csv\r\n",
      " apple_quality.csv\r\n",
      " app_stats.csv\r\n",
      " arrivals.xlsx\r\n",
      " auto_cons.csv\r\n",
      " auto_cons_us.csv\r\n",
      " auto.csv\r\n",
      " autos.csv\r\n",
      " bank_dataset.csv\r\n",
      " bank_sales.csv\r\n",
      " be.csv\r\n",
      " BeerWineLiquor.csv\r\n",
      " behavioral_cohorts.csv\r\n",
      " bike_injuries.csv\r\n",
      " book_orders.csv\r\n",
      " books.csv\r\n",
      " borough_boundaries.csv\r\n",
      " Borough_Boundaries.csv\r\n",
      " b.txt\r\n",
      " cal_housing_data.csv\r\n",
      " calls.csv\r\n",
      " call_type_dictionary.csv\r\n",
      " car_data.csv\r\n",
      " cars.csv\r\n",
      " cars_label.csv\r\n",
      " cases.csv\r\n",
      " CasoGuiado.xlsx\r\n",
      " cats_data.csv\r\n",
      "'C:\\CasoGuiado.xlsx'\r\n",
      "'C:\\Data_Analyst_Practicum\\CasoGuiado.xlsx'\r\n",
      "'C:\\Data_Analyst_Practicum\\datasets\\CasoGuiado.xlsx'\r\n",
      " ch02_les03_costs.csv\r\n",
      " ch02_les03_events.csv\r\n",
      " ch02_les03_orders.csv\r\n",
      " ch02_problems01_users.csv\r\n",
      " ch02_problems01_visits\r\n",
      " ch02_problems01_visits.csv\r\n",
      " ch02_problems02_costs.csv\r\n",
      " ch02_problems02_events.csv\r\n",
      " ch02_problems02_orders.csv\r\n",
      " ch02_problems02_users.csv\r\n",
      " ch02_problems02_visits.csv\r\n",
      " ch02_problems03_visits.csv\r\n",
      " ch03_problems03_active_users.csv\r\n",
      " ch03_vis_costs.csv\r\n",
      " ch03_vis_events.csv\r\n",
      " ch03_vis_orders.csv\r\n",
      " ch03_vis_profiles.csv\r\n",
      " ch03_vis_sessions.csv\r\n",
      " ch04_final_costs.csv\r\n",
      " ch04_final_events.csv\r\n",
      " ch04_final_orders.csv\r\n",
      " ch04_final_visits.csv\r\n",
      " cheese.csv\r\n",
      " cholera.csv\r\n",
      " cholera_fr.csv\r\n",
      " cholera_short.csv\r\n",
      " Churn.csv\r\n",
      " churn_rate.csv\r\n",
      " client_info.xlsx\r\n",
      " ClientInfo.xlsx\r\n",
      " code_snippets.csv\r\n",
      " coffee_home.csv\r\n",
      " command_line.csv\r\n",
      " contract.csv\r\n",
      " cosmetics_sales.csv\r\n",
      " costs.csv\r\n",
      " costs_info.csv\r\n",
      " costs_info_short.csv\r\n",
      " costs_us.csv\r\n",
      "'C:\\Program%20Files\\Common%20Files\\export_dataframe.csv'\r\n",
      " credit_scoring_eng.csv\r\n",
      " crops_usa.csv\r\n",
      " csv_example_1.csv\r\n",
      " csv_example_2.csv\r\n",
      "'C:\\Users\\mrfre\\Desktop\\my_data.csv'\r\n",
      "'C:\\Users\\mrfre\\Desktop\\test_results.xlsx'\r\n",
      " d\r\n",
      " data\r\n",
      " data1\r\n",
      " data1.csv\r\n",
      " data2.csv\r\n",
      " data_3-3.csv\r\n",
      " data3.csv\r\n",
      " data_arc_en.csv\r\n",
      " data_bulk_en.csv\r\n",
      " data_bulk_time_en.csv\r\n",
      " data.csv\r\n",
      " data_final.csv\r\n",
      " data_final_eng.csv\r\n",
      " data_for_tasks_3.csv\r\n",
      " data_for_tasks_3_visitors.csv\r\n",
      " data_gas_en.csv\r\n",
      " dataset_facebook_cosmetics.csv\r\n",
      " dataset_facebook_cosmetics_us.csv\r\n",
      " datasets\r\n",
      " datasets.csv\r\n",
      " data_temp_en.csv\r\n",
      " data_wire_en.csv\r\n",
      " data_wire_time_en.csv\r\n",
      " datos_limpios.xlsx\r\n",
      " delete\r\n",
      " delete.csv\r\n",
      " delete_this\r\n",
      " departments.csv\r\n",
      "'D:\\export_dataframe.csv'\r\n",
      " diabetes.csv\r\n",
      " diabetes.xlsx\r\n",
      " DigiDB_digimonlist\r\n",
      " DigiDB_digimonlist.csv\r\n",
      "'D:\\MBM%20UNI\\export_dataframe.csv'\r\n",
      " doggy_daycare.csv\r\n",
      " drink_pref_cleaned.csv\r\n",
      " drink_pref_cleaned_esp.csv\r\n",
      " drink_preferences.csv\r\n",
      " DrinkPreferences.csv\r\n",
      " drink_preferences_esp.csv\r\n",
      " drink_preferences_filled.csv\r\n",
      " DrinkPreferencesFilled.csv\r\n",
      " drive-data.csv\r\n",
      " drive_data_eng.csv\r\n",
      " Driver_Details.csv\r\n",
      " ds_bert\r\n",
      " ds_cv_images\r\n",
      " ds_test\r\n",
      " ecommerce_dataset.csv\r\n",
      " ecommerce_dataset_us.csv\r\n",
      " Electrical_Grid_Stability.csv\r\n",
      " Electrical_Grid_Stability_us.csv\r\n",
      " emoji.csv\r\n",
      " energy_consumption.csv\r\n",
      " eng_probabilites.csv\r\n",
      " eng_target.csv\r\n",
      " events.csv\r\n",
      " events_us.csv\r\n",
      " exoplanet.csv\r\n",
      " experimental_seo_eng_1.csv\r\n",
      " experimental_seo_eng_2.csv\r\n",
      " experimental_seo_eng_2.xlsx\r\n",
      " exp_seo_data_eng.xlsx\r\n",
      " faces\r\n",
      " fashion_mnist\r\n",
      " feedback.csv\r\n",
      " feedback_eng.csv\r\n",
      " final_ab_events.csv\r\n",
      " final_ab_events_upd_us\r\n",
      " final_ab_events_upd_us.csv\r\n",
      " final_ab_events_us.csv\r\n",
      " final_ab_new_users.csv\r\n",
      " final_ab_new_users_upd_us.csv\r\n",
      " final_ab_new_users_us.csv\r\n",
      " final_ab_participants.csv\r\n",
      " final_ab_participants_upd_us.csv\r\n",
      " final_ab_participants_us.csv\r\n",
      " final_dengue_testing_data.xlsx\r\n",
      " FinalDengueTestingData.xlsx\r\n",
      " final_provider\r\n",
      " final_steel\r\n",
      " flights.csv\r\n",
      " flights_preprocessed.csv\r\n",
      " flights_test_preprocessed.csv\r\n",
      " food_market_stats.csv\r\n",
      " fr_produits.csv\r\n",
      " fr_tous_infos_produits.csv\r\n",
      " fruits_small\r\n",
      " fruits_test\r\n",
      " fruits_train\r\n",
      " funnel_cr_example2.csv\r\n",
      " funnel_cr_example.csv\r\n",
      " funnel_daily.csv\r\n",
      " funnel_prod_events.csv\r\n",
      " game_actions.csv\r\n",
      " game_board.csv\r\n",
      " game_data.csv\r\n",
      " game_data_us.csv\r\n",
      " game_purchases.csv\r\n",
      " games.csv\r\n",
      " games_data.csv\r\n",
      " games_full.csv\r\n",
      " geo_data_0.csv\r\n",
      " geo_data_1.csv\r\n",
      " geo_data_2.csv\r\n",
      " global_temp_dev.csv\r\n",
      " gold_recovery_full.csv\r\n",
      " gold_recovery_full_new.csv\r\n",
      " gold_recovery_test.csv\r\n",
      " gold_recovery_test_new.csv\r\n",
      " gold_recovery_train.csv\r\n",
      " gold_recovery_train_new.csv\r\n",
      " gpp_modified.csv\r\n",
      " gym_churn.csv\r\n",
      " gym_churn_us.csv\r\n",
      " heart.csv\r\n",
      " heart_labeled.csv\r\n",
      " heavy\r\n",
      " height_weight.csv\r\n",
      " hogwarts_points.csv\r\n",
      " hogwarts_points_eng.csv\r\n",
      " hotel_reviews.csv\r\n",
      " hotel_test.csv\r\n",
      " hotel_test_old.csv\r\n",
      " hotel_train.csv\r\n",
      " hotel_train_old.csv\r\n",
      " housing.csv\r\n",
      " hypotheses_us.csv\r\n",
      " hypothesis_4-1-1.csv\r\n",
      " hypothesis_4-1-2.csv\r\n",
      " hypothesis.csv\r\n",
      " ids.xlsx\r\n",
      " imdb_reviews_200.csv\r\n",
      " imdb_reviews_200.tsv\r\n",
      " imdb_reviews_small_lemm_test_labels.tsv\r\n",
      " imdb_reviews_small_lemm_test.tsv\r\n",
      " imdb_reviews_small_lemm_train.tsv\r\n",
      " imdb_reviews_small_lemm.tsv\r\n",
      " imdb_reviews_small.tsv\r\n",
      " imdb_reviews.tsv\r\n",
      " index.html\r\n",
      " instacart_orders.csv\r\n",
      " insurance.csv\r\n",
      " insurance_us.csv\r\n",
      " internet.csv\r\n",
      " kek\r\n",
      " kek2\r\n",
      " keras_models\r\n",
      " l7_participants_test.csv\r\n",
      " l7_purchases_test.csv\r\n",
      " l7_users_test.csv\r\n",
      " languages.csv\r\n",
      " languages_rus.csv\r\n",
      " languages_websites.csv\r\n",
      " languages_websites_es.csv\r\n",
      " languages_websites_fr.csv\r\n",
      " languages_websites_idn.csv\r\n",
      " languages_websites_ptbr.csv\r\n",
      " lesson_data_3-3.csv\r\n",
      " letters\r\n",
      " letters_colors_decimals.csv\r\n",
      " letters.csv\r\n",
      " logs.csv\r\n",
      " logs_exp.csv\r\n",
      " logs_exp_us.csv\r\n",
      " logs_us.csv\r\n",
      " logs_us_esp.csv\r\n",
      " logs_us.html\r\n",
      " ltv_costs_1.csv\r\n",
      " ltv_costs_2.csv\r\n",
      " ltv_orders_1.csv\r\n",
      " ltv_orders_2.csv\r\n",
      " megaline_calls.csv\r\n",
      " megaline_internet.csv\r\n",
      " megaline_messages.csv\r\n",
      " megaline_plans.csv\r\n",
      " megaline_tariffs.csv\r\n",
      " megaline_users1.csv\r\n",
      " megaline_users.csv\r\n",
      " memosky_test_00.csv\r\n",
      " memosky_test_01.csv\r\n",
      " memosky_test_02.csv\r\n",
      " memosky_test_03.csv\r\n",
      " memosky_test_04.csv\r\n",
      " memosky_test_05.csv\r\n",
      " memosky_test_06.csv\r\n",
      " memosky_test_07.csv\r\n",
      " memosky_test_08.csv\r\n",
      " memosky_test_09.csv\r\n",
      " menu_item.csv\r\n",
      " menu_items.csv\r\n",
      " merged_data.xlsx\r\n",
      " MergedData.xlsx\r\n",
      " messages.csv\r\n",
      " metrica_data.csv\r\n",
      " mike\r\n",
      " mkrf_movies.csv\r\n",
      " mkrf_shows.csv\r\n",
      " MNIST\r\n",
      " mnist_database\r\n",
      " mobile_dataset.csv\r\n",
      " mobile_dataset_us.csv\r\n",
      " mobile_sources_us.csv\r\n",
      " mobile_soures.csv\r\n",
      " mobile_stats.csv\r\n",
      " morse_code.csv\r\n",
      " mouse_growth_rate.csv\r\n",
      " movies_and_shows.csv\r\n",
      " movies.csv\r\n",
      " music.csv\r\n",
      " music-data-2.csv\r\n",
      " music_log_chpt_11.csv\r\n",
      " music_log_clean.csv\r\n",
      " music_log.csv\r\n",
      " music_log_fr.csv\r\n",
      " music_log_old_en.csv\r\n",
      " music_log_processed.csv\r\n",
      " music_log_raw.csv\r\n",
      " music_log_upd_col.csv\r\n",
      " music_log_upd.csv\r\n",
      " music_log_upd_en.csv\r\n",
      " music_log_upd_nan.csv\r\n",
      " music_project.csv\r\n",
      " music_project_en.csv\r\n",
      " neighborhood_dict.csv\r\n",
      " new_members.csv\r\n",
      " OnlineRetail.csv\r\n",
      " order_products.csv\r\n",
      " orders.csv\r\n",
      " orders_data_for_cohort.csv\r\n",
      " orders_for_anomalies_detection.csv\r\n",
      " orders_for_anomalies_detection_visitors.csv\r\n",
      " orders_for_detecting_anomalies.csv\r\n",
      " orders_for_detecting_anomalies_visitors.csv\r\n",
      " orders_info.csv\r\n",
      " orders_info_short.csv\r\n",
      " orders_log.csv\r\n",
      " orders_log_us.csv\r\n",
      " orders_us.csv\r\n",
      " oscar_data.csv\r\n",
      " passenger_compare.xlsx\r\n",
      " PassengerCompare.xlsx\r\n",
      " passenger_totals_clean.xlsx\r\n",
      " PassengerTotalsClean.xlsx\r\n",
      " passenger_totals.xlsx\r\n",
      " PassengerTotals.xlsx\r\n",
      " personal.csv\r\n",
      " personal_data_new.xlsx\r\n",
      " personal_data.xlsx\r\n",
      " pfunnel_demo.csv\r\n",
      " philosophy_books.csv\r\n",
      " phone.csv\r\n",
      " phone_stock.csv\r\n",
      " pickups_terminal_5.csv\r\n",
      " polomki.csv\r\n",
      " position.csv\r\n",
      " power_plants_truncated.csv\r\n",
      " problems.csv\r\n",
      " processed_survey_data.xlsx\r\n",
      " ProcessedSurveyData.xlsx\r\n",
      " produce_categories.csv\r\n",
      " produce_sales_es.csv\r\n",
      " produce_sales_ptbr.csv\r\n",
      " product_codes.csv\r\n",
      " product_codes_us.csv\r\n",
      " product_codes_us_test.csv\r\n",
      " product_funnel_demo.csv\r\n",
      " product_reviews.xlsx\r\n",
      " products\r\n",
      " products.csv\r\n",
      " products_data_all\r\n",
      " products_data_all_us.xlsx\r\n",
      " products_data.csv\r\n",
      " products_data_no_nans_and_dupl.csv\r\n",
      " products_data_no_nans.csv\r\n",
      " products_stores\r\n",
      " profiles_backup.csv\r\n",
      " profiles.csv\r\n",
      " profiles_raw.pickle\r\n",
      " projects.csv\r\n",
      " project_sql_result_01.csv\r\n",
      "'project_sql_result_01 new.csv'\r\n",
      " project_sql_result_02.csv\r\n",
      " project_sql_result_03.csv\r\n",
      " project_sql_result_04.csv\r\n",
      " project_sql_result_05.csv\r\n",
      " project_sql_result_06.csv\r\n",
      " project_sql_result_07.csv\r\n",
      " properties_fr.csv\r\n",
      " properties_us.csv\r\n",
      " purchase_data\r\n",
      " purchase_data.csv\r\n",
      " query_1.csv\r\n",
      " query2.csv\r\n",
      " query_3.csv\r\n",
      " query_last.csv\r\n",
      " random_sample.csv\r\n",
      " rating.csv\r\n",
      " real_estate_data\r\n",
      " real_estate_data.csv\r\n",
      " real_estate_data_eng.csv\r\n",
      " real_estate_data_old\r\n",
      " real_estate_data_old.csv\r\n",
      " real_estate_data_us\r\n",
      " real_estate_data_us.csv\r\n",
      " recent_orders.csv\r\n",
      " recent_visitors.csv\r\n",
      " region_code_dict.csv\r\n",
      " region_info.csv\r\n",
      " report_raw.pickle\r\n",
      " restaurant_data.csv\r\n",
      " restaurant_data_us.csv\r\n",
      " rest.csv\r\n",
      " rest_data.csv\r\n",
      " rest_dataset.csv\r\n",
      " rest_data_us.csv\r\n",
      " rest_data_us_upd.csv\r\n",
      " rest_us.csv\r\n",
      " result_analysis_events.csv\r\n",
      " result_analysis_participants.csv\r\n",
      " result_backup.csv\r\n",
      " result_raw.pickle\r\n",
      " retail_dataset.csv\r\n",
      " retail_dataset_us.csv\r\n",
      " returned.csv\r\n",
      " revenue.csv\r\n",
      " revenue_pivot.csv\r\n",
      " Salaries.csv\r\n",
      " sales.csv\r\n",
      " sales_managers_us.csv\r\n",
      " sbux.csv\r\n",
      " schedules.csv\r\n",
      " sdf978s9ad8f7sadf.csv\r\n",
      " segments.csv\r\n",
      " seo_data_category_ids.xlsx\r\n",
      " seo_data_eng.xlsx\r\n",
      " seo_data_esp.xlsx\r\n",
      " seo_data_subcategory_ids.xlsx\r\n",
      " seo_data.xlsx\r\n",
      " sessions_backup.csv\r\n",
      " sessions.csv\r\n",
      " sessions_raw.pickle\r\n",
      " shipping.csv\r\n",
      " shows.csv\r\n",
      " side_effects_cleaned.xlsx\r\n",
      " SideEffectsCleaned.xlsx\r\n",
      " side_effects.xlsx\r\n",
      " SideEffects.xlsx\r\n",
      " simpsons.csv\r\n",
      " site_data\r\n",
      " site_data_2.csv\r\n",
      " site_data.csv\r\n",
      " site_data_eng.csv\r\n",
      " slices.csv\r\n",
      " SLNREG\r\n",
      " sports.csv\r\n",
      " sqlite_train.db\r\n",
      " squirrel_diet.csv\r\n",
      "'standardized_test_results_esp(1).xlsx'\r\n",
      " standardized_test_results_esp.xlsx\r\n",
      " standardized_test_results.xlsx\r\n",
      " stats_by_age.csv\r\n",
      " stats_by_age_employment.csv\r\n",
      " steam-200k\r\n",
      " steam-200k.csv\r\n",
      " stock.csv\r\n",
      " stock_eng.xlsx\r\n",
      " stock_upd.csv\r\n",
      " stock_upd_eng.csv\r\n",
      " stock_upd_esp.csv\r\n",
      " stock.xlsx\r\n",
      " stores\r\n",
      " support.csv\r\n",
      " support_data.csv\r\n",
      " support_data_usa.csv\r\n",
      " support_eng.csv\r\n",
      " support_eng_esp.csv\r\n",
      " support_esp.csv\r\n",
      " support_log.csv\r\n",
      " support_log_grouped.csv\r\n",
      " support_log_grouped_eng.csv\r\n",
      " support_log_grouped_esp.csv\r\n",
      " support_upd.csv\r\n",
      " support_upd_eng.csv\r\n",
      " support_upd_esp.csv\r\n",
      " survey_findings.xlsx\r\n",
      " SurveyFindings.xlsx\r\n",
      " tableau_schedules_us.csv\r\n",
      " tariffs.csv\r\n",
      " taxi.csv\r\n",
      " telecom_clients.csv\r\n",
      " telecom_clients_us.csv\r\n",
      " telecom_dataset.csv\r\n",
      " telecom_dataset_us.csv\r\n",
      " telecomm_csi.db\r\n",
      " tenure.csv\r\n",
      " test111.csv\r\n",
      " test.csv\r\n",
      " test_data.csv\r\n",
      " test_data_full.csv\r\n",
      " test_data_full_us.csv\r\n",
      " test_data_full_us_upd.csv\r\n",
      " test_data_n.csv\r\n",
      " testdataset\r\n",
      " test_data_us1.csv\r\n",
      " test_data_us2.csv\r\n",
      " test_data_us.csv\r\n",
      " testing_with_age_exp_days.xlsx\r\n",
      " TestingWith_Age_ExpDays.xlsx\r\n",
      " test_new_efs.csv\r\n",
      " test_participants.csv\r\n",
      " test_results.xlsx\r\n",
      " TestResults.xlsx\r\n",
      " three_games.csv\r\n",
      " three_more_games.csv\r\n",
      " ticket_data.csv\r\n",
      " ticket_data_new.csv\r\n",
      " time_province.csv\r\n",
      " titanic.csv\r\n",
      " titanic_train.csv\r\n",
      " titanic_updated.csv\r\n",
      " toxic_comments.csv\r\n",
      " train_data.csv\r\n",
      " train_data_n.csv\r\n",
      " train_data_us.csv\r\n",
      " train_ml.csv\r\n",
      " transactions\r\n",
      " travel_insurance.csv\r\n",
      " travel_insurance_preprocessed.csv\r\n",
      " travel_insurance_us.csv\r\n",
      " travel_insurance_us_preprocessed.csv\r\n",
      " trending_by_time.csv\r\n",
      " tripadvisor_review_case.csv\r\n",
      " tripadvisor_review_case_us.csv\r\n",
      " tweets.csv\r\n",
      " tweets_lemm.csv\r\n",
      " tweets_lemm_test.csv\r\n",
      " tweets_lemm_test_labels.csv\r\n",
      " tweets_lemm_train.csv\r\n",
      " undefined\r\n",
      " unemployment_usa.csv\r\n",
      " urbanization.csv\r\n",
      " urbanization_rot.csv\r\n",
      " urbanization_rot_us.csv\r\n",
      " user_activity.csv\r\n",
      " users_behavior.csv\r\n",
      " users_behavior_upd.csv\r\n",
      " users.csv\r\n",
      " users_data.csv\r\n",
      " user_source.csv\r\n",
      " user_source_us.csv\r\n",
      " users_sessions_data.csv\r\n",
      " user_time.csv\r\n",
      " us_state_symbols.csv\r\n",
      " vehicle_sales_us.csv\r\n",
      " vehicles_brief_v3_us.csv\r\n",
      " vehicles_us.csv\r\n",
      "'vehicles_us_(demo).csv'\r\n",
      " vg_sales.csv\r\n",
      " virus_patients.csv\r\n",
      " virus_patients_new.csv\r\n",
      " vis55588.csv\r\n",
      " vis555.csv\r\n",
      " vis666555.csv\r\n",
      " visit_log.csv\r\n",
      " visitors.csv\r\n",
      " visitors_us.csv\r\n",
      " visits.csv\r\n",
      " visits_eng.csv\r\n",
      " visits_info.csv\r\n",
      " visits_info_short.csv\r\n",
      " visits_log.csv\r\n",
      " visits_log_renamed.csv\r\n",
      " visits_log_us.csv\r\n",
      " visits_separated.csv\r\n",
      " visits_us.csv\r\n",
      " visittrrrt333.csv\r\n",
      " visittrrrt4444.csv\r\n",
      " visittrrrt.csv\r\n",
      " weather.csv\r\n",
      " weather_data.csv\r\n",
      " weather_records_download\r\n",
      " web_analytics_data\r\n",
      " web_analytics_data.csv\r\n",
      " web_analytics_data_esp.csv\r\n",
      " west_coast_pop.csv\r\n",
      " wiki_extract.txt\r\n",
      " work_user_activity.csv\r\n",
      " yandex_metrika_logs.csv\r\n",
      " yandex_music_project.csv\r\n",
      " yandex_realty_data.csv\r\n",
      "'Анализ бизнес-показателей, Тема 1, урок 5'\r\n",
      "'датасет для теста изменения файла'\r\n",
      " удалить\r\n",
      " ывс\r\n",
      " ывсцвсысв\r\n"
     ]
    }
   ],
   "source": [
    "!ls /datasets"
   ]
  },
  {
   "cell_type": "code",
   "execution_count": 3,
   "id": "fbf1adab",
   "metadata": {},
   "outputs": [
    {
     "name": "stdout",
     "output_type": "stream",
     "text": [
      "<class 'pandas.core.frame.DataFrame'>\n",
      "RangeIndex: 478967 entries, 0 to 478966\n",
      "Data columns (total 6 columns):\n",
      " #   Column                  Non-Null Count   Dtype  \n",
      "---  ------                  --------------   -----  \n",
      " 0   order_id                478967 non-null  int64  \n",
      " 1   user_id                 478967 non-null  int64  \n",
      " 2   order_number            478967 non-null  int64  \n",
      " 3   order_dow               478967 non-null  int64  \n",
      " 4   order_hour_of_day       478967 non-null  int64  \n",
      " 5   days_since_prior_order  450148 non-null  float64\n",
      "dtypes: float64(1), int64(5)\n",
      "memory usage: 21.9 MB\n"
     ]
    },
    {
     "data": {
      "text/html": [
       "<div>\n",
       "<style scoped>\n",
       "    .dataframe tbody tr th:only-of-type {\n",
       "        vertical-align: middle;\n",
       "    }\n",
       "\n",
       "    .dataframe tbody tr th {\n",
       "        vertical-align: top;\n",
       "    }\n",
       "\n",
       "    .dataframe thead th {\n",
       "        text-align: right;\n",
       "    }\n",
       "</style>\n",
       "<table border=\"1\" class=\"dataframe\">\n",
       "  <thead>\n",
       "    <tr style=\"text-align: right;\">\n",
       "      <th></th>\n",
       "      <th>order_id</th>\n",
       "      <th>user_id</th>\n",
       "      <th>order_number</th>\n",
       "      <th>order_dow</th>\n",
       "      <th>order_hour_of_day</th>\n",
       "      <th>days_since_prior_order</th>\n",
       "    </tr>\n",
       "  </thead>\n",
       "  <tbody>\n",
       "    <tr>\n",
       "      <th>0</th>\n",
       "      <td>1515936</td>\n",
       "      <td>183418</td>\n",
       "      <td>11</td>\n",
       "      <td>6</td>\n",
       "      <td>13</td>\n",
       "      <td>30.0</td>\n",
       "    </tr>\n",
       "    <tr>\n",
       "      <th>1</th>\n",
       "      <td>1690866</td>\n",
       "      <td>163593</td>\n",
       "      <td>5</td>\n",
       "      <td>5</td>\n",
       "      <td>12</td>\n",
       "      <td>9.0</td>\n",
       "    </tr>\n",
       "    <tr>\n",
       "      <th>2</th>\n",
       "      <td>1454967</td>\n",
       "      <td>39980</td>\n",
       "      <td>4</td>\n",
       "      <td>5</td>\n",
       "      <td>19</td>\n",
       "      <td>2.0</td>\n",
       "    </tr>\n",
       "    <tr>\n",
       "      <th>3</th>\n",
       "      <td>1768857</td>\n",
       "      <td>82516</td>\n",
       "      <td>56</td>\n",
       "      <td>0</td>\n",
       "      <td>20</td>\n",
       "      <td>10.0</td>\n",
       "    </tr>\n",
       "    <tr>\n",
       "      <th>4</th>\n",
       "      <td>3007858</td>\n",
       "      <td>196724</td>\n",
       "      <td>2</td>\n",
       "      <td>4</td>\n",
       "      <td>12</td>\n",
       "      <td>17.0</td>\n",
       "    </tr>\n",
       "    <tr>\n",
       "      <th>...</th>\n",
       "      <td>...</td>\n",
       "      <td>...</td>\n",
       "      <td>...</td>\n",
       "      <td>...</td>\n",
       "      <td>...</td>\n",
       "      <td>...</td>\n",
       "    </tr>\n",
       "    <tr>\n",
       "      <th>478962</th>\n",
       "      <td>3210681</td>\n",
       "      <td>5617</td>\n",
       "      <td>5</td>\n",
       "      <td>1</td>\n",
       "      <td>14</td>\n",
       "      <td>7.0</td>\n",
       "    </tr>\n",
       "    <tr>\n",
       "      <th>478963</th>\n",
       "      <td>3270802</td>\n",
       "      <td>112087</td>\n",
       "      <td>2</td>\n",
       "      <td>3</td>\n",
       "      <td>13</td>\n",
       "      <td>6.0</td>\n",
       "    </tr>\n",
       "    <tr>\n",
       "      <th>478964</th>\n",
       "      <td>885349</td>\n",
       "      <td>82944</td>\n",
       "      <td>16</td>\n",
       "      <td>2</td>\n",
       "      <td>11</td>\n",
       "      <td>6.0</td>\n",
       "    </tr>\n",
       "    <tr>\n",
       "      <th>478965</th>\n",
       "      <td>216274</td>\n",
       "      <td>4391</td>\n",
       "      <td>3</td>\n",
       "      <td>3</td>\n",
       "      <td>8</td>\n",
       "      <td>8.0</td>\n",
       "    </tr>\n",
       "    <tr>\n",
       "      <th>478966</th>\n",
       "      <td>2071924</td>\n",
       "      <td>1730</td>\n",
       "      <td>18</td>\n",
       "      <td>1</td>\n",
       "      <td>14</td>\n",
       "      <td>15.0</td>\n",
       "    </tr>\n",
       "  </tbody>\n",
       "</table>\n",
       "<p>478967 rows × 6 columns</p>\n",
       "</div>"
      ],
      "text/plain": [
       "        order_id  user_id  order_number  order_dow  order_hour_of_day  \\\n",
       "0        1515936   183418            11          6                 13   \n",
       "1        1690866   163593             5          5                 12   \n",
       "2        1454967    39980             4          5                 19   \n",
       "3        1768857    82516            56          0                 20   \n",
       "4        3007858   196724             2          4                 12   \n",
       "...          ...      ...           ...        ...                ...   \n",
       "478962   3210681     5617             5          1                 14   \n",
       "478963   3270802   112087             2          3                 13   \n",
       "478964    885349    82944            16          2                 11   \n",
       "478965    216274     4391             3          3                  8   \n",
       "478966   2071924     1730            18          1                 14   \n",
       "\n",
       "        days_since_prior_order  \n",
       "0                         30.0  \n",
       "1                          9.0  \n",
       "2                          2.0  \n",
       "3                         10.0  \n",
       "4                         17.0  \n",
       "...                        ...  \n",
       "478962                     7.0  \n",
       "478963                     6.0  \n",
       "478964                     6.0  \n",
       "478965                     8.0  \n",
       "478966                    15.0  \n",
       "\n",
       "[478967 rows x 6 columns]"
      ]
     },
     "execution_count": 3,
     "metadata": {},
     "output_type": "execute_result"
    }
   ],
   "source": [
    "import pandas as pd\n",
    "df_orders = pd.read_csv('https://practicum-content.s3.us-west-1.amazonaws.com/datasets/instacart_orders.csv', sep=';')\n",
    "df_orders.info()\n",
    "df_orders\n"
   ]
  },
  {
   "cell_type": "code",
   "execution_count": 4,
   "id": "ad36396d",
   "metadata": {},
   "outputs": [
    {
     "name": "stdout",
     "output_type": "stream",
     "text": [
      "<class 'pandas.core.frame.DataFrame'>\n",
      "RangeIndex: 49694 entries, 0 to 49693\n",
      "Data columns (total 4 columns):\n",
      " #   Column         Non-Null Count  Dtype \n",
      "---  ------         --------------  ----- \n",
      " 0   product_id     49694 non-null  int64 \n",
      " 1   product_name   48436 non-null  object\n",
      " 2   aisle_id       49694 non-null  int64 \n",
      " 3   department_id  49694 non-null  int64 \n",
      "dtypes: int64(3), object(1)\n",
      "memory usage: 1.5+ MB\n",
      "   product_id                                       product_name  aisle_id  \\\n",
      "0           1                         Chocolate Sandwich Cookies        61   \n",
      "1           2                                   All-Seasons Salt       104   \n",
      "2           3               Robust Golden Unsweetened Oolong Tea        94   \n",
      "3           4  Smart Ones Classic Favorites Mini Rigatoni Wit...        38   \n",
      "4           5                          Green Chile Anytime Sauce         5   \n",
      "\n",
      "   department_id  \n",
      "0             19  \n",
      "1             13  \n",
      "2              7  \n",
      "3              1  \n",
      "4             13  \n"
     ]
    }
   ],
   "source": [
    "df_products = pd.read_csv('https://practicum-content.s3.us-west-1.amazonaws.com/datasets/products.csv', sep=';')\n",
    "df_products.info()\n",
    "print(df_products.head())"
   ]
  },
  {
   "cell_type": "code",
   "execution_count": 5,
   "id": "ad6a1efa",
   "metadata": {},
   "outputs": [
    {
     "name": "stdout",
     "output_type": "stream",
     "text": [
      "<class 'pandas.core.frame.DataFrame'>\n",
      "RangeIndex: 134 entries, 0 to 133\n",
      "Data columns (total 2 columns):\n",
      " #   Column    Non-Null Count  Dtype \n",
      "---  ------    --------------  ----- \n",
      " 0   aisle_id  134 non-null    int64 \n",
      " 1   aisle     134 non-null    object\n",
      "dtypes: int64(1), object(1)\n",
      "memory usage: 2.2+ KB\n",
      "   aisle_id                       aisle\n",
      "0         1       prepared soups salads\n",
      "1         2           specialty cheeses\n",
      "2         3         energy granola bars\n",
      "3         4               instant foods\n",
      "4         5  marinades meat preparation\n"
     ]
    }
   ],
   "source": [
    "df_aisles = pd.read_csv('https://practicum-content.s3.us-west-1.amazonaws.com/datasets/aisles.csv', sep=';')\n",
    "df_aisles.info()\n",
    "print(df_aisles.head())"
   ]
  },
  {
   "cell_type": "code",
   "execution_count": 6,
   "id": "5130e05e",
   "metadata": {},
   "outputs": [
    {
     "name": "stdout",
     "output_type": "stream",
     "text": [
      "<class 'pandas.core.frame.DataFrame'>\n",
      "RangeIndex: 21 entries, 0 to 20\n",
      "Data columns (total 2 columns):\n",
      " #   Column         Non-Null Count  Dtype \n",
      "---  ------         --------------  ----- \n",
      " 0   department_id  21 non-null     int64 \n",
      " 1   department     21 non-null     object\n",
      "dtypes: int64(1), object(1)\n",
      "memory usage: 464.0+ bytes\n",
      "   department_id department\n",
      "0              1     frozen\n",
      "1              2      other\n",
      "2              3     bakery\n",
      "3              4    produce\n",
      "4              5    alcohol\n"
     ]
    }
   ],
   "source": [
    "df_departments = pd.read_csv('https://practicum-content.s3.us-west-1.amazonaws.com/datasets/departments.csv', sep=';')\n",
    "df_departments.info()\n",
    "print(df_departments.head())"
   ]
  },
  {
   "cell_type": "code",
   "execution_count": 7,
   "id": "d8370c05",
   "metadata": {},
   "outputs": [
    {
     "name": "stdout",
     "output_type": "stream",
     "text": [
      "<class 'pandas.core.frame.DataFrame'>\n",
      "RangeIndex: 4545007 entries, 0 to 4545006\n",
      "Data columns (total 4 columns):\n",
      " #   Column             Dtype  \n",
      "---  ------             -----  \n",
      " 0   order_id           int64  \n",
      " 1   product_id         int64  \n",
      " 2   add_to_cart_order  float64\n",
      " 3   reordered          int64  \n",
      "dtypes: float64(1), int64(3)\n",
      "memory usage: 138.7 MB\n",
      "   order_id  product_id  add_to_cart_order  reordered\n",
      "0   2141543       11440               17.0          0\n",
      "1    567889        1560                1.0          1\n",
      "2   2261212       26683                1.0          1\n",
      "3    491251        8670               35.0          1\n",
      "4   2571142        1940                5.0          1\n"
     ]
    }
   ],
   "source": [
    "df_order_products = pd.read_csv('https://practicum-content.s3.us-west-1.amazonaws.com/datasets/order_products.csv', sep=';')\n",
    "df_order_products.info()\n",
    "print(df_order_products.head())"
   ]
  },
  {
   "cell_type": "markdown",
   "id": "07357848-dc64-4156-9cc3-01ff4365226d",
   "metadata": {},
   "source": [
    "## Find and remove duplicate values (and describe why you make your choices)"
   ]
  },
  {
   "cell_type": "markdown",
   "id": "f179f0a9",
   "metadata": {},
   "source": [
    "### `orders` data frame"
   ]
  },
  {
   "cell_type": "markdown",
   "id": "4c8150bd-03d5-4e4a-aaca-663971b22c0d",
   "metadata": {},
   "source": [
    "With the datasets uploaded and displayed we can now check for duplicates and missing data within each dataset"
   ]
  },
  {
   "cell_type": "code",
   "execution_count": 8,
   "id": "b99297a5-405a-463d-8535-9adc3da4ad74",
   "metadata": {},
   "outputs": [
    {
     "data": {
      "text/plain": [
       "15"
      ]
     },
     "execution_count": 8,
     "metadata": {},
     "output_type": "execute_result"
    }
   ],
   "source": [
    "# Check for duplicated orders\n",
    "df_orders.duplicated().sum()\n"
   ]
  },
  {
   "cell_type": "code",
   "execution_count": 9,
   "id": "0d44de5d",
   "metadata": {},
   "outputs": [
    {
     "name": "stdout",
     "output_type": "stream",
     "text": [
      "        order_id  user_id  order_number  order_dow  order_hour_of_day  \\\n",
      "1295     1474941   115569             5          2                  2   \n",
      "2391     1640269   173965            15          2                  2   \n",
      "2550     1223696    55276            11          2                  2   \n",
      "5965      579194    85018            14          2                  2   \n",
      "17680    2004230   203121             4          2                  2   \n",
      "...          ...      ...           ...        ...                ...   \n",
      "457660   1562381    19378             5          2                  2   \n",
      "460316   1986084   117453            81          2                  2   \n",
      "462676   1362113    19654            20          2                  2   \n",
      "472800   1746383    88484            19          2                  2   \n",
      "472923   1519815   149345             1          2                  2   \n",
      "\n",
      "        days_since_prior_order  \n",
      "1295                      28.0  \n",
      "2391                       2.0  \n",
      "2550                      30.0  \n",
      "5965                      11.0  \n",
      "17680                      8.0  \n",
      "...                        ...  \n",
      "457660                     6.0  \n",
      "460316                     8.0  \n",
      "462676                    21.0  \n",
      "472800                     5.0  \n",
      "472923                     NaN  \n",
      "\n",
      "[136 rows x 6 columns]\n"
     ]
    }
   ],
   "source": [
    "# Check for all orders placed Wednesday at 2:00 AM\n",
    "print(df_orders[(df_orders['order_hour_of_day']== 2) & (df_orders['order_dow'] == 2)])\n"
   ]
  },
  {
   "cell_type": "code",
   "execution_count": 10,
   "id": "480563c7",
   "metadata": {},
   "outputs": [],
   "source": [
    "# Remove duplicate orders\n",
    "df_orders = df_orders.drop_duplicates()\n",
    "\n"
   ]
  },
  {
   "cell_type": "code",
   "execution_count": 11,
   "id": "0b2396a2",
   "metadata": {},
   "outputs": [
    {
     "name": "stdout",
     "output_type": "stream",
     "text": [
      "0\n"
     ]
    }
   ],
   "source": [
    "# Double check for duplicate rows\n",
    "print(df_orders.duplicated().sum())"
   ]
  },
  {
   "cell_type": "code",
   "execution_count": 12,
   "id": "f6113ef1",
   "metadata": {},
   "outputs": [
    {
     "name": "stdout",
     "output_type": "stream",
     "text": [
      "1048576    1\n",
      "3389216    1\n",
      "1100604    1\n",
      "1275704    1\n",
      "2337103    1\n",
      "          ..\n",
      "1752059    1\n",
      "2794488    1\n",
      "711671     1\n",
      "1711087    1\n",
      "2047       1\n",
      "Name: order_id, Length: 478952, dtype: int64\n"
     ]
    }
   ],
   "source": [
    "# Double check for duplicate order IDs only\n",
    "print(df_orders['order_id'].value_counts())"
   ]
  },
  {
   "cell_type": "markdown",
   "id": "45e6bc46",
   "metadata": {},
   "source": [
    "### `products` data frame"
   ]
  },
  {
   "cell_type": "code",
   "execution_count": 13,
   "id": "5f526b5b-8175-46fa-a0fd-441767d50e64",
   "metadata": {},
   "outputs": [
    {
     "data": {
      "text/plain": [
       "0"
      ]
     },
     "execution_count": 13,
     "metadata": {},
     "output_type": "execute_result"
    }
   ],
   "source": [
    "# Check for fully duplicate rows\n",
    "df_products.duplicated().sum()\n"
   ]
  },
  {
   "cell_type": "code",
   "execution_count": 14,
   "id": "88daa4f4",
   "metadata": {},
   "outputs": [
    {
     "data": {
      "text/plain": [
       "0"
      ]
     },
     "execution_count": 14,
     "metadata": {},
     "output_type": "execute_result"
    }
   ],
   "source": [
    "# Check for just duplicate product IDs\n",
    "df_products['product_id'].duplicated().sum()"
   ]
  },
  {
   "cell_type": "code",
   "execution_count": 15,
   "id": "c773f0bf",
   "metadata": {},
   "outputs": [
    {
     "data": {
      "text/plain": [
       "1361"
      ]
     },
     "execution_count": 15,
     "metadata": {},
     "output_type": "execute_result"
    }
   ],
   "source": [
    "# Check for just duplicate product names (convert names to lowercase to compare better)\n",
    "df_products['product_name'] = df_products['product_name'].str.lower()\n",
    "df_products['product_name'].duplicated().sum()"
   ]
  },
  {
   "cell_type": "code",
   "execution_count": 16,
   "id": "01efd02e",
   "metadata": {},
   "outputs": [
    {
     "name": "stdout",
     "output_type": "stream",
     "text": [
      "green tea with ginseng and honey             3\n",
      "fluffly vanilla marshmallow frosting         2\n",
      "burrito- steak & cheese                      2\n",
      "18-in-1 hemp peppermint pure-castile soap    2\n",
      "pineapple slices in heavy syrup              2\n",
      "                                            ..\n",
      "micellar makeup remover wipes                1\n",
      "hop devil ipa                                1\n",
      "palak paneer                                 1\n",
      "garlic pepper ramen                          1\n",
      "dentotape® unflavored waxed tape             1\n",
      "Name: product_name, Length: 48332, dtype: int64\n"
     ]
    }
   ],
   "source": [
    "# Check for duplicate product names that aren't missing\n",
    "print(df_products['product_name'].value_counts())"
   ]
  },
  {
   "cell_type": "code",
   "execution_count": null,
   "id": "712678ab",
   "metadata": {},
   "outputs": [],
   "source": []
  },
  {
   "cell_type": "markdown",
   "id": "9da8d293",
   "metadata": {},
   "source": []
  },
  {
   "cell_type": "markdown",
   "id": "60f30db1",
   "metadata": {},
   "source": [
    "### `departments` data frame"
   ]
  },
  {
   "cell_type": "code",
   "execution_count": 17,
   "id": "fb410ad4-0fbf-4b80-bb09-23fdea79afe3",
   "metadata": {},
   "outputs": [
    {
     "data": {
      "text/plain": [
       "0"
      ]
     },
     "execution_count": 17,
     "metadata": {},
     "output_type": "execute_result"
    }
   ],
   "source": [
    "# Check for fullly duplicate rows\n",
    "df_departments.duplicated().sum()"
   ]
  },
  {
   "cell_type": "code",
   "execution_count": 18,
   "id": "332b12bb",
   "metadata": {},
   "outputs": [
    {
     "data": {
      "text/plain": [
       "department_id  department     \n",
       "1              frozen             1\n",
       "12             meat seafood       1\n",
       "20             deli               1\n",
       "19             snacks             1\n",
       "18             babies             1\n",
       "17             household          1\n",
       "16             dairy eggs         1\n",
       "15             canned goods       1\n",
       "14             breakfast          1\n",
       "13             pantry             1\n",
       "11             personal care      1\n",
       "2              other              1\n",
       "10             bulk               1\n",
       "9              dry goods pasta    1\n",
       "8              pets               1\n",
       "7              beverages          1\n",
       "6              international      1\n",
       "5              alcohol            1\n",
       "4              produce            1\n",
       "3              bakery             1\n",
       "21             missing            1\n",
       "dtype: int64"
      ]
     },
     "execution_count": 18,
     "metadata": {},
     "output_type": "execute_result"
    }
   ],
   "source": [
    "# Double check for any other tricky duplicates\n",
    "df_departments.value_counts()"
   ]
  },
  {
   "cell_type": "markdown",
   "id": "bd30d78e",
   "metadata": {},
   "source": []
  },
  {
   "cell_type": "markdown",
   "id": "889349c1",
   "metadata": {},
   "source": [
    "### `aisles` data frame"
   ]
  },
  {
   "cell_type": "code",
   "execution_count": 19,
   "id": "9da89fb9-4679-40f5-ad0d-c34df753a3f8",
   "metadata": {},
   "outputs": [
    {
     "data": {
      "text/plain": [
       "0"
      ]
     },
     "execution_count": 19,
     "metadata": {},
     "output_type": "execute_result"
    }
   ],
   "source": [
    "df_aisles.duplicated().sum()"
   ]
  },
  {
   "cell_type": "code",
   "execution_count": 20,
   "id": "da7c2822",
   "metadata": {},
   "outputs": [
    {
     "data": {
      "text/plain": [
       "aisle_id  aisle                     \n",
       "1         prepared soups salads         1\n",
       "85        food storage                  1\n",
       "99        canned fruit applesauce       1\n",
       "98        juice nectars                 1\n",
       "97        baking supplies decor         1\n",
       "                                       ..\n",
       "40        dog food care                 1\n",
       "39        seafood counter               1\n",
       "38        frozen meals                  1\n",
       "37        ice cream ice                 1\n",
       "134       specialty wines champagnes    1\n",
       "Length: 134, dtype: int64"
      ]
     },
     "execution_count": 20,
     "metadata": {},
     "output_type": "execute_result"
    }
   ],
   "source": [
    "df_aisles.value_counts()"
   ]
  },
  {
   "cell_type": "markdown",
   "id": "ac63826f",
   "metadata": {},
   "source": []
  },
  {
   "cell_type": "markdown",
   "id": "274cd06a",
   "metadata": {},
   "source": [
    "### `order_products` data frame"
   ]
  },
  {
   "cell_type": "code",
   "execution_count": 21,
   "id": "52326689-84a8-4b8f-a881-7c68780f62c9",
   "metadata": {},
   "outputs": [
    {
     "data": {
      "text/plain": [
       "0"
      ]
     },
     "execution_count": 21,
     "metadata": {},
     "output_type": "execute_result"
    }
   ],
   "source": [
    "# Check for fullly duplicate rows\n",
    "df_order_products.duplicated().sum()"
   ]
  },
  {
   "cell_type": "code",
   "execution_count": 22,
   "id": "7b861391",
   "metadata": {},
   "outputs": [
    {
     "data": {
      "text/plain": [
       "order_id  product_id  add_to_cart_order  reordered\n",
       "4         10054       5.0                1            1\n",
       "2277733   35233       5.0                1            1\n",
       "2277734   15233       4.0                1            1\n",
       "          11471       2.0                1            1\n",
       "          6374        3.0                1            1\n",
       "                                                     ..\n",
       "1145037   26790       21.0               1            1\n",
       "          27767       10.0               1            1\n",
       "          32086       16.0               0            1\n",
       "          33572       5.0                1            1\n",
       "3421079   30136       1.0                0            1\n",
       "Length: 4544171, dtype: int64"
      ]
     },
     "execution_count": 22,
     "metadata": {},
     "output_type": "execute_result"
    }
   ],
   "source": [
    "# Double check for any other tricky duplicates\n",
    "df_order_products.value_counts()"
   ]
  },
  {
   "cell_type": "markdown",
   "id": "1e46de76",
   "metadata": {},
   "source": [
    "## Find and remove missing values\n"
   ]
  },
  {
   "cell_type": "markdown",
   "id": "c0aebd78",
   "metadata": {},
   "source": [
    "### `products` data frame"
   ]
  },
  {
   "cell_type": "code",
   "execution_count": 23,
   "id": "fe4a8b0f",
   "metadata": {},
   "outputs": [
    {
     "data": {
      "text/plain": [
       "product_id          0\n",
       "product_name     1258\n",
       "aisle_id            0\n",
       "department_id       0\n",
       "dtype: int64"
      ]
     },
     "execution_count": 23,
     "metadata": {},
     "output_type": "execute_result"
    }
   ],
   "source": [
    "df_products.isna().sum()"
   ]
  },
  {
   "cell_type": "code",
   "execution_count": 24,
   "id": "e96167bc",
   "metadata": {},
   "outputs": [
    {
     "name": "stdout",
     "output_type": "stream",
     "text": [
      "yes\n"
     ]
    }
   ],
   "source": [
    "# Are all of the missing product names associated with aisle ID 100?\n",
    "missing_product_names = df_products['product_name'].isnull()\n",
    "missing_data = df_products[missing_product_names]\n",
    "unique_aisle_id = missing_data['aisle_id'].unique()\n",
    "\n",
    "if len(unique_aisle_id)== 1 and unique_aisle_id[0] == 100:\n",
    "    print('yes')\n",
    "else:\n",
    "    print('no')"
   ]
  },
  {
   "cell_type": "code",
   "execution_count": 25,
   "id": "8fd0a541",
   "metadata": {},
   "outputs": [
    {
     "name": "stdout",
     "output_type": "stream",
     "text": [
      "yes\n"
     ]
    }
   ],
   "source": [
    "# Are all of the missing product names associated with department ID 21?\n",
    "missing_product_names = df_products['product_name'].isnull()\n",
    "missing_data = df_products[missing_product_names]\n",
    "unique_dept_id = missing_data['department_id'].unique()\n",
    "\n",
    "if len(unique_dept_id)==1 and unique_dept_id[0]==21:\n",
    "    print('yes')\n",
    "else:\n",
    "    print('no')\n"
   ]
  },
  {
   "cell_type": "code",
   "execution_count": 26,
   "id": "756cf080-3c97-4cce-bfa8-4fb127f45b52",
   "metadata": {},
   "outputs": [
    {
     "data": {
      "text/html": [
       "<div>\n",
       "<style scoped>\n",
       "    .dataframe tbody tr th:only-of-type {\n",
       "        vertical-align: middle;\n",
       "    }\n",
       "\n",
       "    .dataframe tbody tr th {\n",
       "        vertical-align: top;\n",
       "    }\n",
       "\n",
       "    .dataframe thead th {\n",
       "        text-align: right;\n",
       "    }\n",
       "</style>\n",
       "<table border=\"1\" class=\"dataframe\">\n",
       "  <thead>\n",
       "    <tr style=\"text-align: right;\">\n",
       "      <th></th>\n",
       "      <th>aisle_id</th>\n",
       "      <th>aisle</th>\n",
       "    </tr>\n",
       "  </thead>\n",
       "  <tbody>\n",
       "    <tr>\n",
       "      <th>0</th>\n",
       "      <td>1</td>\n",
       "      <td>prepared soups salads</td>\n",
       "    </tr>\n",
       "    <tr>\n",
       "      <th>1</th>\n",
       "      <td>2</td>\n",
       "      <td>specialty cheeses</td>\n",
       "    </tr>\n",
       "    <tr>\n",
       "      <th>2</th>\n",
       "      <td>3</td>\n",
       "      <td>energy granola bars</td>\n",
       "    </tr>\n",
       "    <tr>\n",
       "      <th>3</th>\n",
       "      <td>4</td>\n",
       "      <td>instant foods</td>\n",
       "    </tr>\n",
       "    <tr>\n",
       "      <th>4</th>\n",
       "      <td>5</td>\n",
       "      <td>marinades meat preparation</td>\n",
       "    </tr>\n",
       "  </tbody>\n",
       "</table>\n",
       "</div>"
      ],
      "text/plain": [
       "   aisle_id                       aisle\n",
       "0         1       prepared soups salads\n",
       "1         2           specialty cheeses\n",
       "2         3         energy granola bars\n",
       "3         4               instant foods\n",
       "4         5  marinades meat preparation"
      ]
     },
     "execution_count": 26,
     "metadata": {},
     "output_type": "execute_result"
    }
   ],
   "source": [
    "df_aisles.head()"
   ]
  },
  {
   "cell_type": "code",
   "execution_count": 27,
   "id": "325c3464",
   "metadata": {},
   "outputs": [
    {
     "name": "stdout",
     "output_type": "stream",
     "text": [
      "['missing']\n",
      "['missing']\n",
      "['missing']\n"
     ]
    }
   ],
   "source": [
    "# What is this ailse and department?\n",
    "\n",
    "print(df_aisles.loc[df_aisles['aisle_id'] == 100, 'aisle'].unique())\n",
    "print(df_departments.loc[df_departments['department_id']== 21, 'department'].unique())\n",
    "\n",
    "print(df_departments[df_departments['department_id']==21]['department'].unique())\n"
   ]
  },
  {
   "cell_type": "code",
   "execution_count": 28,
   "id": "6b295120",
   "metadata": {},
   "outputs": [
    {
     "data": {
      "text/plain": [
       "0"
      ]
     },
     "execution_count": 28,
     "metadata": {},
     "output_type": "execute_result"
    }
   ],
   "source": [
    "# Fill missing product names with 'Unknown'\n",
    "df_products['product_name'].fillna('unknown', inplace=True)\n",
    "df_products['product_name'].isna().sum()\n"
   ]
  },
  {
   "cell_type": "markdown",
   "id": "7eb45c86",
   "metadata": {},
   "source": [
    "### `orders` data frame"
   ]
  },
  {
   "cell_type": "code",
   "execution_count": 29,
   "id": "93e41d96",
   "metadata": {},
   "outputs": [
    {
     "data": {
      "text/plain": [
       "order_id                      0\n",
       "user_id                       0\n",
       "order_number                  0\n",
       "order_dow                     0\n",
       "order_hour_of_day             0\n",
       "days_since_prior_order    28817\n",
       "dtype: int64"
      ]
     },
     "execution_count": 29,
     "metadata": {},
     "output_type": "execute_result"
    }
   ],
   "source": [
    "df_orders.isna().sum()"
   ]
  },
  {
   "cell_type": "code",
   "execution_count": 30,
   "id": "166e5a86",
   "metadata": {},
   "outputs": [
    {
     "data": {
      "text/plain": [
       "Series([], dtype: int64)"
      ]
     },
     "execution_count": 30,
     "metadata": {},
     "output_type": "execute_result"
    }
   ],
   "source": [
    "# Are there any missing values where it's not a customer's first order?\n",
    "df_orders[(df_orders['days_since_prior_order'].isna()) & (df_orders['order_number'] > 1)].value_counts()\n"
   ]
  },
  {
   "cell_type": "markdown",
   "id": "4e23d089",
   "metadata": {},
   "source": []
  },
  {
   "cell_type": "markdown",
   "id": "69dc9ca4",
   "metadata": {},
   "source": [
    "### `order_products` data frame"
   ]
  },
  {
   "cell_type": "code",
   "execution_count": 31,
   "id": "b8240253",
   "metadata": {},
   "outputs": [
    {
     "data": {
      "text/plain": [
       "order_id               0\n",
       "product_id             0\n",
       "add_to_cart_order    836\n",
       "reordered              0\n",
       "dtype: int64"
      ]
     },
     "execution_count": 31,
     "metadata": {},
     "output_type": "execute_result"
    }
   ],
   "source": [
    "df_order_products.isna().sum()"
   ]
  },
  {
   "cell_type": "code",
   "execution_count": 32,
   "id": "9a78e5ee",
   "metadata": {},
   "outputs": [
    {
     "name": "stdout",
     "output_type": "stream",
     "text": [
      "1.0\n",
      "64.0\n"
     ]
    }
   ],
   "source": [
    "# What are the min and max values in this column?\n",
    "print(df_order_products['add_to_cart_order'].min())\n",
    "print(df_order_products['add_to_cart_order'].max())"
   ]
  },
  {
   "cell_type": "code",
   "execution_count": 33,
   "id": "ab9d0c2b",
   "metadata": {},
   "outputs": [
    {
     "name": "stdout",
     "output_type": "stream",
     "text": [
      "[2449164 1968313 2926893 1717990 1959075  844733   61355  936852  264710\n",
      " 1564093  129627  293169 2849370 1386261 3308010  903110 2136777 3347453\n",
      " 1888628  165801 2094761 1038146 2997021  813364 2256933  171934 2409109\n",
      " 1730767 1169835  733526  404157 3125735  747668 1800005 1961723  871281\n",
      "  388234 1648217 1477139  102236 1021563 1832957 2721963  678116 1220886\n",
      " 1673227 2999801 1633337 2470674 2625444 1677118 2479011 3383594 1183255\n",
      " 1713430 2652650 1598369 1916118  854647 1302315  888470  180546 2621907\n",
      " 1308785 2729254    9310 2170451 2979697 1625713 1529171]\n"
     ]
    }
   ],
   "source": [
    "# Save all order IDs with at least one missing value in 'add_to_cart_order'\n",
    "missing_add_to_cart = df_order_products['add_to_cart_order'].isna()\n",
    "missing_order_id = df_order_products[missing_add_to_cart]['order_id'].unique()\n",
    "print(missing_order_id)\n",
    "\n"
   ]
  },
  {
   "cell_type": "code",
   "execution_count": 34,
   "id": "54c31695",
   "metadata": {},
   "outputs": [
    {
     "name": "stdout",
     "output_type": "stream",
     "text": [
      "All orders with missing 'add_to_cart_order' have more than 64 products: True\n"
     ]
    }
   ],
   "source": [
    "# Do all orders with missing values have more than 64 products?\n",
    "product_count_per_order = df_order_products.groupby('order_id')['product_id'].count().reset_index()\n",
    "orders_over_64 = product_count_per_order[product_count_per_order['product_id'] > 64]\n",
    "filtered_orders = orders_over_64[orders_over_64['order_id'].isin(missing_order_id)]\n",
    "missing_order_id_count = len(missing_order_id)\n",
    "filtered_orders_count = len(filtered_orders)\n",
    "print(f\"All orders with missing 'add_to_cart_order' have more than 64 products: {filtered_orders_count == missing_order_id_count}\")"
   ]
  },
  {
   "cell_type": "code",
   "execution_count": 35,
   "id": "7a987d08",
   "metadata": {},
   "outputs": [
    {
     "name": "stdout",
     "output_type": "stream",
     "text": [
      "0          17\n",
      "1           1\n",
      "2           1\n",
      "3          35\n",
      "4           5\n",
      "           ..\n",
      "4545002    12\n",
      "4545003     9\n",
      "4545004     4\n",
      "4545005     8\n",
      "4545006     9\n",
      "Name: add_to_cart_order, Length: 4545007, dtype: int64\n"
     ]
    }
   ],
   "source": [
    "df_order_products['add_to_cart_order'] = df_order_products['add_to_cart_order'].fillna(999)\n",
    "\n",
    "df_order_products['add_to_cart_order'] = df_order_products['add_to_cart_order'].astype(int)\n",
    "\n",
    "print(df_order_products['add_to_cart_order'])"
   ]
  },
  {
   "cell_type": "markdown",
   "id": "fea4bcc7",
   "metadata": {},
   "source": []
  },
  {
   "cell_type": "markdown",
   "id": "turkish-kidney",
   "metadata": {},
   "source": [
    "# [A] Easy (must complete all to pass)"
   ]
  },
  {
   "cell_type": "markdown",
   "id": "c177c2a6-b7e9-4c68-af8c-e15f29411c36",
   "metadata": {},
   "source": [
    "Each dataset has been deduplicated and missing values have been logged. \n",
    "\n",
    "The next step in the process is to start to draw conclusions about what the data is telling us. \n",
    "\n",
    "We can start by understand when shoppers are making purchases at various days of the week and at what times."
   ]
  },
  {
   "cell_type": "markdown",
   "id": "short-capability",
   "metadata": {},
   "source": [
    "### [A1] Verify that the `'order_hour_of_day'` and `'order_dow'` values in the `orders` tables are sensible (i.e. `'order_hour_of_day'` ranges from 0 to 23 and `'order_dow'` ranges from 0 to 6)"
   ]
  },
  {
   "cell_type": "code",
   "execution_count": 36,
   "id": "growing-fruit",
   "metadata": {},
   "outputs": [
    {
     "data": {
      "text/plain": [
       "0      3180\n",
       "1      1763\n",
       "2       989\n",
       "3       770\n",
       "4       765\n",
       "5      1371\n",
       "6      4215\n",
       "7     13043\n",
       "8     25024\n",
       "9     35896\n",
       "10    40578\n",
       "11    40032\n",
       "12    38034\n",
       "13    39007\n",
       "14    39631\n",
       "15    39789\n",
       "16    38112\n",
       "17    31930\n",
       "18    25510\n",
       "19    19547\n",
       "20    14624\n",
       "21    11019\n",
       "22     8512\n",
       "23     5611\n",
       "Name: order_hour_of_day, dtype: int64"
      ]
     },
     "execution_count": 36,
     "metadata": {},
     "output_type": "execute_result"
    }
   ],
   "source": [
    "df_orders['order_hour_of_day'].value_counts().sort_index()"
   ]
  },
  {
   "cell_type": "code",
   "execution_count": 37,
   "id": "accessory-malaysia",
   "metadata": {},
   "outputs": [
    {
     "data": {
      "text/plain": [
       "0    84090\n",
       "1    82185\n",
       "2    65833\n",
       "3    60897\n",
       "4    59810\n",
       "5    63488\n",
       "6    62649\n",
       "Name: order_dow, dtype: int64"
      ]
     },
     "execution_count": 37,
     "metadata": {},
     "output_type": "execute_result"
    }
   ],
   "source": [
    "df_orders['order_dow'].value_counts().sort_index()"
   ]
  },
  {
   "cell_type": "markdown",
   "id": "a6743a70",
   "metadata": {},
   "source": [
    "### [A2] What time of day do people shop for groceries?"
   ]
  },
  {
   "cell_type": "code",
   "execution_count": 38,
   "id": "a36cca27",
   "metadata": {},
   "outputs": [
    {
     "data": {
      "text/plain": [
       "<AxesSubplot:ylabel='Frequency'>"
      ]
     },
     "execution_count": 38,
     "metadata": {},
     "output_type": "execute_result"
    },
    {
     "data": {
      "image/png": "[encoded data removed]",
      "text/plain": [
       "<Figure size 640x480 with 1 Axes>"
      ]
     },
     "metadata": {},
     "output_type": "display_data"
    }
   ],
   "source": [
    "df_orders['order_hour_of_day'].mean()\n",
    "df_orders['order_hour_of_day'].plot(kind='hist', bins=24)"
   ]
  },
  {
   "cell_type": "markdown",
   "id": "documented-command",
   "metadata": {},
   "source": [
    "### [A3] What day of the week do people shop for groceries?"
   ]
  },
  {
   "cell_type": "code",
   "execution_count": 39,
   "id": "chief-digit",
   "metadata": {},
   "outputs": [
    {
     "data": {
      "text/plain": [
       "<AxesSubplot:ylabel='Frequency'>"
      ]
     },
     "execution_count": 39,
     "metadata": {},
     "output_type": "execute_result"
    },
    {
     "data": {
      "image/png": "[encoded data removed]",
      "text/plain": [
       "<Figure size 640x480 with 1 Axes>"
      ]
     },
     "metadata": {},
     "output_type": "display_data"
    }
   ],
   "source": [
    "df_orders['order_dow'].plot(kind='hist', bins=7)"
   ]
  },
  {
   "cell_type": "markdown",
   "id": "cutting-concert",
   "metadata": {},
   "source": [
    "### [A4] How long do people wait until placing another order?"
   ]
  },
  {
   "cell_type": "code",
   "execution_count": 40,
   "id": "c231f523",
   "metadata": {},
   "outputs": [
    {
     "data": {
      "text/plain": [
       "<AxesSubplot:ylabel='Frequency'>"
      ]
     },
     "execution_count": 40,
     "metadata": {},
     "output_type": "execute_result"
    },
    {
     "data": {
      "image/png": "[encoded data removed]",
      "text/plain": [
       "<Figure size 640x480 with 1 Axes>"
      ]
     },
     "metadata": {},
     "output_type": "display_data"
    }
   ],
   "source": [
    "df_orders['days_since_prior_order'].plot(kind='hist', bins=20)"
   ]
  },
  {
   "cell_type": "markdown",
   "id": "discrete-vertex",
   "metadata": {},
   "source": []
  },
  {
   "cell_type": "code",
   "execution_count": null,
   "id": "exciting-fantasy",
   "metadata": {},
   "outputs": [],
   "source": []
  },
  {
   "cell_type": "markdown",
   "id": "8d926614",
   "metadata": {},
   "source": []
  },
  {
   "cell_type": "markdown",
   "id": "tight-staff",
   "metadata": {},
   "source": [
    "# [B] Medium (must complete all to pass)"
   ]
  },
  {
   "cell_type": "markdown",
   "id": "packed-classic",
   "metadata": {},
   "source": [
    "### [B1] Is there a difference in `'order_hour_of_day'` distributions on Wednesdays and Saturdays? Plot the histograms for both days and describe the differences that you see."
   ]
  },
  {
   "cell_type": "markdown",
   "id": "0abbb5a5-e6cc-4e66-bcde-f56bd32e69e5",
   "metadata": {},
   "source": [
    "Going deeper into the data we can look for trends in the way people by. We do this by processing the data to answer questions such as the following:"
   ]
  },
  {
   "cell_type": "code",
   "execution_count": 41,
   "id": "d89b8403",
   "metadata": {},
   "outputs": [],
   "source": [
    "import pandas as pd\n",
    "\n",
    "from matplotlib import pyplot as plt"
   ]
  },
  {
   "cell_type": "code",
   "execution_count": 42,
   "id": "94e54e8a",
   "metadata": {},
   "outputs": [
    {
     "data": {
      "text/plain": [
       "(0.0, 24.0)"
      ]
     },
     "execution_count": 42,
     "metadata": {},
     "output_type": "execute_result"
    },
    {
     "data": {
      "image/png": "[encoded data removed]",
      "text/plain": [
       "<Figure size 640x480 with 1 Axes>"
      ]
     },
     "metadata": {},
     "output_type": "display_data"
    }
   ],
   "source": [
    "df_orders[df_orders['order_dow']==2]['order_hour_of_day'].plot(kind='hist', bins=24, alpha = 0.5)\n",
    "df_orders[df_orders['order_dow']==5]['order_hour_of_day'].plot(kind='hist', bins=24, alpha = 0.5)\n",
    "plt.legend(['Wednesday', 'Saturday'])\n",
    "plt.ylabel('Number of Purchases')\n",
    "plt.xlabel('Hour of Day')\n",
    "plt.xlim(0,24)"
   ]
  },
  {
   "cell_type": "markdown",
   "id": "cbe627e6-3490-45c5-a39e-f54b2f4e2802",
   "metadata": {},
   "source": [
    "Wednesday has a consistently higher number of purchases. \n",
    "On each day purchases increase significatly from the 7th to the 10th hour with the peak purchasing hour being the 10th (10am) for both days\n",
    "After the 16th hour (4pm), purchases begin to decline at a rate of ~1000 purchases per hour\n",
    "Max purchase number is >= 5000 for each day with Wednesday being higher at around 5500 purchases"
   ]
  },
  {
   "cell_type": "code",
   "execution_count": null,
   "id": "35bcea30",
   "metadata": {},
   "outputs": [],
   "source": []
  },
  {
   "cell_type": "markdown",
   "id": "charitable-congo",
   "metadata": {},
   "source": []
  },
  {
   "cell_type": "markdown",
   "id": "e3891143",
   "metadata": {},
   "source": [
    "### [B2] What's the distribution for the number of orders per customer?"
   ]
  },
  {
   "cell_type": "code",
   "execution_count": 43,
   "id": "d8c26c23",
   "metadata": {},
   "outputs": [
    {
     "data": {
      "image/png": "[encoded data removed]",
      "text/plain": [
       "<Figure size 640x480 with 1 Axes>"
      ]
     },
     "metadata": {},
     "output_type": "display_data"
    }
   ],
   "source": [
    "orders_per_user = df_orders.groupby('user_id')['order_number'].size()\n",
    "\n",
    "orders_per_user.plot(kind='hist')\n",
    "plt.xlabel('Number of Orders')\n",
    "plt.ylabel('Number of Users')\n",
    "plt.title('Distribution of Number of Orders per User')\n",
    "plt.show()"
   ]
  },
  {
   "cell_type": "code",
   "execution_count": null,
   "id": "00e69a66",
   "metadata": {},
   "outputs": [],
   "source": []
  },
  {
   "cell_type": "markdown",
   "id": "d2eff7d5",
   "metadata": {},
   "source": []
  },
  {
   "cell_type": "markdown",
   "id": "54a0319c",
   "metadata": {},
   "source": [
    "### [B3] What are the top 20 popular products (display their id and name)?"
   ]
  },
  {
   "cell_type": "code",
   "execution_count": 44,
   "id": "exterior-arizona",
   "metadata": {
    "scrolled": true
   },
   "outputs": [
    {
     "name": "stdout",
     "output_type": "stream",
     "text": [
      "         order_id  product_id  add_to_cart_order  reordered  \\\n",
      "0         2141543       11440                 17          0   \n",
      "1          147172       11440                  7          1   \n",
      "2         3341719       11440                  4          1   \n",
      "3         1938779       11440                  8          1   \n",
      "4         1728338       11440                 23          0   \n",
      "...           ...         ...                ...        ...   \n",
      "4545002    267402       45226                 14          0   \n",
      "4545003   2621676       25201                 10          0   \n",
      "4545004    937623       49153                  2          0   \n",
      "4545005    532895        8182                  1          0   \n",
      "4545006   3132243       40024                  1          0   \n",
      "\n",
      "                               product_name  aisle_id  department_id  \n",
      "0            chicken breast tenders breaded       129              1  \n",
      "1            chicken breast tenders breaded       129              1  \n",
      "2            chicken breast tenders breaded       129              1  \n",
      "3            chicken breast tenders breaded       129              1  \n",
      "4            chicken breast tenders breaded       129              1  \n",
      "...                                     ...       ...            ...  \n",
      "4545002   sweet teriyaki chicken oven sauce         5             13  \n",
      "4545003          crisp waters candle scents       101             17  \n",
      "4545004  shine collection brillance shampoo        22             11  \n",
      "4545005    total mint stripe gel toothpaste        20             11  \n",
      "4545006                 egg replacer powder        17             13  \n",
      "\n",
      "[4545007 rows x 7 columns]\n"
     ]
    }
   ],
   "source": [
    "merged_order_products = df_order_products.merge(df_products, on='product_id')\n",
    "print(merged_order_products)"
   ]
  },
  {
   "cell_type": "code",
   "execution_count": 45,
   "id": "universal-facial",
   "metadata": {},
   "outputs": [],
   "source": [
    "product_count= merged_order_products.groupby(['product_id', 'product_name']).count()\n",
    "\n",
    "top_20_products = product_count.sort_values(by= 'order_id', ascending=False).head(20)\n"
   ]
  },
  {
   "cell_type": "code",
   "execution_count": 46,
   "id": "bbcdd20b",
   "metadata": {},
   "outputs": [
    {
     "name": "stdout",
     "output_type": "stream",
     "text": [
      "    product_id              product_name\n",
      "0        24852                    banana\n",
      "1        13176    bag of organic bananas\n",
      "2        21137      organic strawberries\n",
      "3        21903      organic baby spinach\n",
      "4        47209      organic hass avocado\n",
      "5        47766           organic avocado\n",
      "6        47626               large lemon\n",
      "7        16797              strawberries\n",
      "8        26209                     limes\n",
      "9        27845        organic whole milk\n",
      "10       27966       organic raspberries\n",
      "11       22935      organic yellow onion\n",
      "12       24964            organic garlic\n",
      "13       45007          organic zucchini\n",
      "14       39275       organic blueberries\n",
      "15       49683            cucumber kirby\n",
      "16       28204        organic fuji apple\n",
      "17        5876             organic lemon\n",
      "18        8277  apple honeycrisp organic\n",
      "19       40706    organic grape tomatoes\n"
     ]
    }
   ],
   "source": [
    "top_20_products_df = top_20_products.reset_index()\n",
    "print(top_20_products_df[['product_id', 'product_name']])"
   ]
  },
  {
   "cell_type": "code",
   "execution_count": 47,
   "id": "81e0bdcf-cdc9-4213-ad72-2a83d6d11186",
   "metadata": {},
   "outputs": [
    {
     "data": {
      "text/html": [
       "<div>\n",
       "<style scoped>\n",
       "    .dataframe tbody tr th:only-of-type {\n",
       "        vertical-align: middle;\n",
       "    }\n",
       "\n",
       "    .dataframe tbody tr th {\n",
       "        vertical-align: top;\n",
       "    }\n",
       "\n",
       "    .dataframe thead th {\n",
       "        text-align: right;\n",
       "    }\n",
       "</style>\n",
       "<table border=\"1\" class=\"dataframe\">\n",
       "  <thead>\n",
       "    <tr style=\"text-align: right;\">\n",
       "      <th></th>\n",
       "      <th>product_id</th>\n",
       "      <th>product_name</th>\n",
       "      <th>number_of_occurances</th>\n",
       "    </tr>\n",
       "  </thead>\n",
       "  <tbody>\n",
       "    <tr>\n",
       "      <th>22808</th>\n",
       "      <td>24852</td>\n",
       "      <td>banana</td>\n",
       "      <td>66050</td>\n",
       "    </tr>\n",
       "    <tr>\n",
       "      <th>12025</th>\n",
       "      <td>13176</td>\n",
       "      <td>bag of organic bananas</td>\n",
       "      <td>53297</td>\n",
       "    </tr>\n",
       "    <tr>\n",
       "      <th>19370</th>\n",
       "      <td>21137</td>\n",
       "      <td>organic strawberries</td>\n",
       "      <td>37039</td>\n",
       "    </tr>\n",
       "    <tr>\n",
       "      <th>20077</th>\n",
       "      <td>21903</td>\n",
       "      <td>organic baby spinach</td>\n",
       "      <td>33971</td>\n",
       "    </tr>\n",
       "    <tr>\n",
       "      <th>43271</th>\n",
       "      <td>47209</td>\n",
       "      <td>organic hass avocado</td>\n",
       "      <td>29773</td>\n",
       "    </tr>\n",
       "    <tr>\n",
       "      <th>43788</th>\n",
       "      <td>47766</td>\n",
       "      <td>organic avocado</td>\n",
       "      <td>24689</td>\n",
       "    </tr>\n",
       "    <tr>\n",
       "      <th>43663</th>\n",
       "      <td>47626</td>\n",
       "      <td>large lemon</td>\n",
       "      <td>21495</td>\n",
       "    </tr>\n",
       "    <tr>\n",
       "      <th>15364</th>\n",
       "      <td>16797</td>\n",
       "      <td>strawberries</td>\n",
       "      <td>20018</td>\n",
       "    </tr>\n",
       "    <tr>\n",
       "      <th>24047</th>\n",
       "      <td>26209</td>\n",
       "      <td>limes</td>\n",
       "      <td>19690</td>\n",
       "    </tr>\n",
       "    <tr>\n",
       "      <th>25556</th>\n",
       "      <td>27845</td>\n",
       "      <td>organic whole milk</td>\n",
       "      <td>19600</td>\n",
       "    </tr>\n",
       "    <tr>\n",
       "      <th>25666</th>\n",
       "      <td>27966</td>\n",
       "      <td>organic raspberries</td>\n",
       "      <td>19197</td>\n",
       "    </tr>\n",
       "    <tr>\n",
       "      <th>21025</th>\n",
       "      <td>22935</td>\n",
       "      <td>organic yellow onion</td>\n",
       "      <td>15898</td>\n",
       "    </tr>\n",
       "    <tr>\n",
       "      <th>22908</th>\n",
       "      <td>24964</td>\n",
       "      <td>organic garlic</td>\n",
       "      <td>15292</td>\n",
       "    </tr>\n",
       "    <tr>\n",
       "      <th>41244</th>\n",
       "      <td>45007</td>\n",
       "      <td>organic zucchini</td>\n",
       "      <td>14584</td>\n",
       "    </tr>\n",
       "    <tr>\n",
       "      <th>35996</th>\n",
       "      <td>39275</td>\n",
       "      <td>organic blueberries</td>\n",
       "      <td>13879</td>\n",
       "    </tr>\n",
       "    <tr>\n",
       "      <th>45561</th>\n",
       "      <td>49683</td>\n",
       "      <td>cucumber kirby</td>\n",
       "      <td>13675</td>\n",
       "    </tr>\n",
       "    <tr>\n",
       "      <th>25889</th>\n",
       "      <td>28204</td>\n",
       "      <td>organic fuji apple</td>\n",
       "      <td>12544</td>\n",
       "    </tr>\n",
       "    <tr>\n",
       "      <th>5375</th>\n",
       "      <td>5876</td>\n",
       "      <td>organic lemon</td>\n",
       "      <td>12232</td>\n",
       "    </tr>\n",
       "    <tr>\n",
       "      <th>7543</th>\n",
       "      <td>8277</td>\n",
       "      <td>apple honeycrisp organic</td>\n",
       "      <td>11993</td>\n",
       "    </tr>\n",
       "    <tr>\n",
       "      <th>37301</th>\n",
       "      <td>40706</td>\n",
       "      <td>organic grape tomatoes</td>\n",
       "      <td>11781</td>\n",
       "    </tr>\n",
       "  </tbody>\n",
       "</table>\n",
       "</div>"
      ],
      "text/plain": [
       "       product_id              product_name  number_of_occurances\n",
       "22808       24852                    banana                 66050\n",
       "12025       13176    bag of organic bananas                 53297\n",
       "19370       21137      organic strawberries                 37039\n",
       "20077       21903      organic baby spinach                 33971\n",
       "43271       47209      organic hass avocado                 29773\n",
       "43788       47766           organic avocado                 24689\n",
       "43663       47626               large lemon                 21495\n",
       "15364       16797              strawberries                 20018\n",
       "24047       26209                     limes                 19690\n",
       "25556       27845        organic whole milk                 19600\n",
       "25666       27966       organic raspberries                 19197\n",
       "21025       22935      organic yellow onion                 15898\n",
       "22908       24964            organic garlic                 15292\n",
       "41244       45007          organic zucchini                 14584\n",
       "35996       39275       organic blueberries                 13879\n",
       "45561       49683            cucumber kirby                 13675\n",
       "25889       28204        organic fuji apple                 12544\n",
       "5375         5876             organic lemon                 12232\n",
       "7543         8277  apple honeycrisp organic                 11993\n",
       "37301       40706    organic grape tomatoes                 11781"
      ]
     },
     "execution_count": 47,
     "metadata": {},
     "output_type": "execute_result"
    }
   ],
   "source": [
    "merged = merged_order_products.groupby([\"product_id\", \"product_name\"]).aggregate(number_of_occurances=(\"product_id\", \"count\")).reset_index()\n",
    "top_20= merged.sort_values(by='number_of_occurances', ascending=False).head(20)\n",
    "top_20"
   ]
  },
  {
   "cell_type": "markdown",
   "id": "7df00f47",
   "metadata": {},
   "source": [
    "In the previous tasks we've shown the purchasing trend for Wednesday and Saturday and drawn our conclusions.\n",
    "We've seen the number of products customers typcially purchase in one order\n",
    "We've listed the top 20 most popular products"
   ]
  },
  {
   "cell_type": "markdown",
   "id": "gross-theme",
   "metadata": {},
   "source": [
    "# [C] Hard (must complete at least two to pass)"
   ]
  },
  {
   "cell_type": "markdown",
   "id": "romantic-deposit",
   "metadata": {},
   "source": [
    "### [C1] How many items do people typically buy in one order? What does the distribution look like?"
   ]
  },
  {
   "cell_type": "code",
   "execution_count": 48,
   "id": "virtual-punch",
   "metadata": {},
   "outputs": [
    {
     "data": {
      "text/plain": [
       "Text(0, 0.5, 'Frequency of Product Quantity')"
      ]
     },
     "execution_count": 48,
     "metadata": {},
     "output_type": "execute_result"
    },
    {
     "data": {
      "image/png": "[encoded data removed]",
      "text/plain": [
       "<Figure size 640x480 with 1 Axes>"
      ]
     },
     "metadata": {},
     "output_type": "display_data"
    }
   ],
   "source": [
    "order_item_counts = df_order_products.groupby('order_id').size()\n",
    "order_item_counts.plot(kind='hist', xlim=[0,60], bins= 40, title = 'quantity of products purchased')\n",
    "plt.xlabel('Quantity of Products per Order')\n",
    "plt.ylabel('Frequency of Product Quantity')"
   ]
  },
  {
   "cell_type": "markdown",
   "id": "25d4d80e-d7ac-489f-ada5-8087fc58fd95",
   "metadata": {},
   "source": [
    "In this graph we can see the number of products per order on our x axis and the frequency that this number of products was purchased over the course of time in our data. We can conclude that most customers (over 10,000) purchase between 0-5 products per purchase. The volume of purchases goes down significantly when tracking number of times people are purchasing 10+ products."
   ]
  },
  {
   "cell_type": "markdown",
   "id": "designed-mortality",
   "metadata": {},
   "source": []
  },
  {
   "cell_type": "markdown",
   "id": "5e6b5537",
   "metadata": {},
   "source": [
    "### [C2] What are the top 20 items that are reordered most frequently (display their names and product IDs)?"
   ]
  },
  {
   "cell_type": "code",
   "execution_count": 49,
   "id": "9374e55a",
   "metadata": {},
   "outputs": [
    {
     "name": "stdout",
     "output_type": "stream",
     "text": [
      "                   product_name  product_id\n",
      "22808                    banana       24852\n",
      "12025    bag of organic bananas       13176\n",
      "19370      organic strawberries       21137\n",
      "20077      organic baby spinach       21903\n",
      "43271      organic hass avocado       47209\n",
      "43788           organic avocado       47766\n",
      "25556        organic whole milk       27845\n",
      "43663               large lemon       47626\n",
      "25666       organic raspberries       27966\n",
      "15364              strawberries       16797\n",
      "24047                     limes       26209\n",
      "21025      organic yellow onion       22935\n",
      "22908            organic garlic       24964\n",
      "41244          organic zucchini       45007\n",
      "45561            cucumber kirby       49683\n",
      "25889        organic fuji apple       28204\n",
      "7543   apple honeycrisp organic        8277\n",
      "35996       organic blueberries       39275\n",
      "5375              organic lemon        5876\n",
      "45155       organic half & half       49235\n"
     ]
    }
   ],
   "source": [
    "merged_products_df= df_order_products.merge(df_products, on= 'product_id')\n",
    "\n",
    "aggregated_products = merged_products_df.groupby('product_id').agg({'reordered': 'sum'})\n",
    "\n",
    "aggregated_products = aggregated_products.merge(df_products[['product_id', 'product_name']], on='product_id')\n",
    "\n",
    "top_20_products_reordered = aggregated_products.sort_values(by='reordered', ascending=False).head(20)\n",
    "\n",
    "print(top_20_products_reordered[['product_name', 'product_id']])"
   ]
  },
  {
   "cell_type": "markdown",
   "id": "36a19e34-005a-41b2-a9ea-25de7d4c7120",
   "metadata": {
    "scrolled": true
   },
   "source": [
    "We can see in this list the number of products that are re-ordered most frequently."
   ]
  },
  {
   "cell_type": "markdown",
   "id": "fdb70414-3d58-4c00-aed5-632a6140d144",
   "metadata": {},
   "source": []
  },
  {
   "cell_type": "markdown",
   "id": "28ce9872",
   "metadata": {},
   "source": []
  }
 ],
 "metadata": {
  "ExecuteTimeLog": [
   {
    "duration": 408,
    "start_time": "2024-11-20T20:47:42.000Z"
   },
   {
    "duration": 445,
    "start_time": "2024-11-20T20:47:42.411Z"
   },
   {
    "duration": 1633,
    "start_time": "2024-11-20T20:47:42.858Z"
   },
   {
    "duration": 778,
    "start_time": "2024-11-20T20:47:44.493Z"
   },
   {
    "duration": 262,
    "start_time": "2024-11-20T20:47:45.276Z"
   },
   {
    "duration": 265,
    "start_time": "2024-11-20T20:47:45.540Z"
   },
   {
    "duration": 3839,
    "start_time": "2024-11-20T20:47:45.810Z"
   },
   {
    "duration": 134,
    "start_time": "2024-11-20T20:47:49.652Z"
   },
   {
    "duration": 10,
    "start_time": "2024-11-20T20:47:49.788Z"
   },
   {
    "duration": 164,
    "start_time": "2024-11-20T20:47:49.800Z"
   },
   {
    "duration": 128,
    "start_time": "2024-11-20T20:47:49.968Z"
   },
   {
    "duration": 55,
    "start_time": "2024-11-20T20:47:50.101Z"
   },
   {
    "duration": 18,
    "start_time": "2024-11-20T20:47:50.161Z"
   },
   {
    "duration": 8,
    "start_time": "2024-11-20T20:47:50.188Z"
   },
   {
    "duration": 27,
    "start_time": "2024-11-20T20:47:50.201Z"
   },
   {
    "duration": 24,
    "start_time": "2024-11-20T20:47:50.233Z"
   },
   {
    "duration": 6,
    "start_time": "2024-11-20T20:47:50.263Z"
   },
   {
    "duration": 8,
    "start_time": "2024-11-20T20:47:50.274Z"
   },
   {
    "duration": 6,
    "start_time": "2024-11-20T20:47:50.288Z"
   },
   {
    "duration": 12,
    "start_time": "2024-11-20T20:47:50.299Z"
   },
   {
    "duration": 1175,
    "start_time": "2024-11-20T20:47:50.316Z"
   },
   {
    "duration": 2611,
    "start_time": "2024-11-20T20:47:51.497Z"
   },
   {
    "duration": 10,
    "start_time": "2024-11-20T20:47:54.110Z"
   },
   {
    "duration": 7,
    "start_time": "2024-11-20T20:47:54.123Z"
   },
   {
    "duration": 8,
    "start_time": "2024-11-20T20:47:54.132Z"
   },
   {
    "duration": 6,
    "start_time": "2024-11-20T20:47:54.142Z"
   },
   {
    "duration": 6,
    "start_time": "2024-11-20T20:47:54.150Z"
   },
   {
    "duration": 31,
    "start_time": "2024-11-20T20:47:54.158Z"
   },
   {
    "duration": 8,
    "start_time": "2024-11-20T20:47:54.192Z"
   },
   {
    "duration": 8,
    "start_time": "2024-11-20T20:47:54.202Z"
   },
   {
    "duration": 22,
    "start_time": "2024-11-20T20:47:54.215Z"
   },
   {
    "duration": 51,
    "start_time": "2024-11-20T20:47:54.239Z"
   },
   {
    "duration": 13,
    "start_time": "2024-11-20T20:47:54.293Z"
   },
   {
    "duration": 271,
    "start_time": "2024-11-20T20:47:54.308Z"
   },
   {
    "duration": 37,
    "start_time": "2024-11-20T20:47:54.586Z"
   },
   {
    "duration": 8,
    "start_time": "2024-11-20T20:47:54.625Z"
   },
   {
    "duration": 7,
    "start_time": "2024-11-20T20:47:54.636Z"
   },
   {
    "duration": 2152,
    "start_time": "2024-11-20T20:47:54.646Z"
   },
   {
    "duration": 146,
    "start_time": "2024-11-20T20:47:56.800Z"
   },
   {
    "duration": 173,
    "start_time": "2024-11-20T20:47:56.948Z"
   },
   {
    "duration": 3,
    "start_time": "2024-11-20T20:47:57.126Z"
   },
   {
    "duration": 198,
    "start_time": "2024-11-20T20:47:57.131Z"
   },
   {
    "duration": 221,
    "start_time": "2024-11-20T20:47:57.330Z"
   },
   {
    "duration": 869,
    "start_time": "2024-11-20T20:47:57.553Z"
   },
   {
    "duration": 794,
    "start_time": "2024-11-20T20:47:58.424Z"
   },
   {
    "duration": 9,
    "start_time": "2024-11-20T20:47:59.222Z"
   },
   {
    "duration": 972,
    "start_time": "2024-11-20T20:47:59.233Z"
   },
   {
    "duration": 693,
    "start_time": "2024-11-20T20:48:00.207Z"
   },
   {
    "duration": 1030,
    "start_time": "2024-11-20T20:48:00.903Z"
   }
  ],
  "kernelspec": {
   "display_name": "Python 3 (ipykernel)",
   "language": "python",
   "name": "python3"
  },
  "language_info": {
   "codemirror_mode": {
    "name": "ipython",
    "version": 3
   },
   "file_extension": ".py",
   "mimetype": "text/x-python",
   "name": "python",
   "nbconvert_exporter": "python",
   "pygments_lexer": "ipython3",
   "version": "3.9.19"
  },
  "toc": {
   "base_numbering": 1,
   "nav_menu": {},
   "number_sections": true,
   "sideBar": true,
   "skip_h1_title": true,
   "title_cell": "Table of Contents",
   "title_sidebar": "Contents",
   "toc_cell": false,
   "toc_position": {
    "height": "calc(100% - 180px)",
    "left": "10px",
    "top": "150px",
    "width": "368px"
   },
   "toc_section_display": true,
   "toc_window_display": true
  },
  "vscode": {
   "interpreter": {
    "hash": "01a7be9ec63e704a62cefc5fe7a4756944464ee731be31632bdf42a4cb4688cf"
   }
  }
 },
 "nbformat": 4,
 "nbformat_minor": 5
}
